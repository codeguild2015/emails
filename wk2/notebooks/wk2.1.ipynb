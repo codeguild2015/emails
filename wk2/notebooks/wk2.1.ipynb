{
 "cells": [
  {
   "cell_type": "markdown",
   "metadata": {},
   "source": [
    "# wk2.1 Creating HTML in style: CSS\n",
    "\n"
   ]
  },
  {
   "cell_type": "markdown",
   "metadata": {},
   "source": [
    "# First, some more on HTML\n",
    "\n",
    "## Forms\n",
    "\n",
    "### ```<form>```\n",
    "#### ```action```\n",
    "#### ```method```\n",
    "\n",
    "* Either get or post\n",
    "* get returns results in the URL (insecure).\n",
    "* post returns results in the metadata of the http response (more secure)"
   ]
  },
  {
   "cell_type": "code",
   "execution_count": 3,
   "metadata": {
    "collapsed": false
   },
   "outputs": [
    {
     "data": {
      "text/plain": [
       "'https://api.github.com/events'"
      ]
     },
     "execution_count": 3,
     "metadata": {},
     "output_type": "execute_result"
    }
   ],
   "source": [
    "import requests\n",
    "r = requests.get('https://api.github.com/events')\n",
    "r.url"
   ]
  },
  {
   "cell_type": "code",
   "execution_count": 4,
   "metadata": {
    "collapsed": false
   },
   "outputs": [
    {
     "data": {
      "text/plain": [
       "'http://httpbin.org/post'"
      ]
     },
     "execution_count": 4,
     "metadata": {},
     "output_type": "execute_result"
    }
   ],
   "source": [
    "import requests\n",
    "payload = {'key1': 'value1', 'key2': 'value2'}\n",
    "r = requests.post(\"http://httpbin.org/post\", data=payload) \n",
    "print(r.text)\n",
    "r.url # note that the payload hasn't been dropped in to the url."
   ]
  },
  {
   "cell_type": "markdown",
   "metadata": {
    "collapsed": true
   },
   "source": [
    "### ```<input>```\n",
    "#### ```type```\n",
    "\n",
    "* ```<input type=\"text\">``` or simply ```<input>``` is a standard textbox. This can also have a value attribute, which sets the initial text in the textbox.\n",
    "* ```<input type=\"password\">``` is similar to the textbox, but the characters typed in by the user will be hidden.\n",
    "* ```<input type=\"checkbox\">``` is a checkbox, which can be toggled on and off by the user. This can also have a checked attribute (```<input type=\"checkbox\" checked>``` - the attribute doesn’t require a value), and makes the initial state of the check box to be switched on, as it were.\n",
    "* ```<input type=\"radio\">``` is similar to a checkbox, but the user can only select one radio button in a group. This can also have a checked attribute.\n",
    "* ```<input type=\"submit\">``` is a button that when selected will submit the form. You can control the text that appears on the submit button with the value attribute, for example ```<input type=\"submit\" value=\"Ooo. Look. Text on a button. Wow\">```.\n",
    "\n",
    "#### ```name````\n",
    "#### ```value```\n",
    "\n",
    "### ```<textarea>``\n",
    "* ```<textarea rows=\"5\" cols=\"20\">A big load of text</textarea>```\n",
    "\n",
    "### ```<select>```\n",
    "```\n",
    "<select>\n",
    "    <option>Option 1</option>\n",
    "    <option>Option 2</option>\n",
    "    <option value=\"third option\">Option 3</option>\n",
    "</select>\n",
    "```\n",
    "<select>\n",
    "    <option>Option 1</option>\n",
    "    <option>Option 2</option>\n",
    "    <option value=\"third option\">Option 3</option>\n",
    "</select>\n",
    "\n",
    "### Names"
   ]
  },
  {
   "cell_type": "markdown",
   "metadata": {},
   "source": [
    "<form action=\"processingscript.py\" method=\"post\">\n",
    "<p>Name:</p>\n",
    "    <p><input type=\"text\" name=\"name\" value=\"Your name\"></p>\n",
    "\n",
    "    <p>Comments: </p>\n",
    "    <p><textarea name=\"comments\" rows=\"5\" cols=\"20\">Your comments</textarea></p>\n",
    "\n",
    "    <p>Are you:</p>\n",
    "    <p><input type=\"radio\" name=\"areyou\" value=\"male\"> Male</p>\n",
    "    <p><input type=\"radio\" name=\"areyou\" value=\"female\"> Female</p>\n",
    "    <p><input type=\"radio\" name=\"areyou\" value=\"chipmunk\"> A chipmunk</p>\n",
    "    <p><input type=\"radio\" name=\"areyou\" value=\"vorgonthedarklord\"> asdfjkl</p>\n",
    "\n",
    "</form>"
   ]
  },
  {
   "cell_type": "markdown",
   "metadata": {},
   "source": [
    "# Now a quick detour to the developer tools\n",
    "\n",
    "## I would suggest looking at [chrome dev tools](https://developers.google.com/web/tools/setup/workspace/setup-devtools), they're nifty\n",
    "\n",
    "## Also, look at [this chrome guide](https://developers.google.com/web/tools/setup/workspace/setup-editor?hl=en) to setting up your environment (they recommend getting sublime)\n",
    "\n"
   ]
  },
  {
   "cell_type": "markdown",
   "metadata": {},
   "source": [
    "# CSS\n",
    "\n",
    "## Three types of CSS\n",
    "* Internal\n",
    "* Embedded\n",
    "* External\n",
    "\n",
    "In general don't do the first two.\n",
    "\n",
    "## External\n",
    "\n",
    "To add an external stylesheet to your html insert the following into the head\n",
    "```\n",
    "<link rel=\"stylesheet\" href=\"style.css\">\n",
    "```\n"
   ]
  },
  {
   "cell_type": "markdown",
   "metadata": {},
   "source": [
    "Demo: https://jsfiddle.net/p6mmct3z/\n",
    "\n",
    "Demo with some css: https://jsfiddle.net/p6mmct3z/2/"
   ]
  },
  {
   "cell_type": "markdown",
   "metadata": {},
   "source": [
    "# Challenges\n",
    "\n",
    "https://en.wikiversity.org/wiki/Web_Design/CSS_challenges"
   ]
  }
 ],
 "metadata": {
  "kernelspec": {
   "display_name": "Python 3",
   "language": "python",
   "name": "python3"
  },
  "language_info": {
   "codemirror_mode": {
    "name": "ipython",
    "version": 3
   },
   "file_extension": ".py",
   "mimetype": "text/x-python",
   "name": "python",
   "nbconvert_exporter": "python",
   "pygments_lexer": "ipython3",
   "version": "3.5.0"
  }
 },
 "nbformat": 4,
 "nbformat_minor": 0
}
